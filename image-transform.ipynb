{
 "cells": [
  {
   "cell_type": "markdown",
   "id": "2dfa4904",
   "metadata": {},
   "source": [
    "# Using PIL and numpy to transform Images\n"
   ]
  },
  {
   "cell_type": "code",
   "execution_count": 11,
   "id": "c115323e",
   "metadata": {},
   "outputs": [],
   "source": [
    "import numpy as np\n",
    "from PIL import Image as image"
   ]
  },
  {
   "cell_type": "markdown",
   "id": "047acca4",
   "metadata": {},
   "source": [
    "## Using th PIL library to import the pictures"
   ]
  },
  {
   "cell_type": "code",
   "execution_count": 12,
   "id": "1d82b63b",
   "metadata": {},
   "outputs": [],
   "source": [
    "img1 = image.open(\"house.png\")\n",
    "img2 = image.open(\"heart.png\")\n",
    "img1.show()\n",
    "img2.show()"
   ]
  },
  {
   "cell_type": "markdown",
   "id": "dbca73fe",
   "metadata": {},
   "source": [
    "# Using numpy to view the images as an array of numbers"
   ]
  },
  {
   "cell_type": "code",
   "execution_count": 13,
   "id": "b0e2d048",
   "metadata": {},
   "outputs": [
    {
     "data": {
      "text/plain": [
       "array([[[244, 244, 244, 255],\n",
       "        [244, 244, 244, 255],\n",
       "        [244, 244, 244, 255],\n",
       "        ...,\n",
       "        [255, 255, 255, 255],\n",
       "        [255, 255, 255, 255],\n",
       "        [255, 255, 255, 255]],\n",
       "\n",
       "       [[244, 244, 244, 255],\n",
       "        [244, 244, 244, 255],\n",
       "        [244, 244, 244, 255],\n",
       "        ...,\n",
       "        [255, 255, 255, 255],\n",
       "        [255, 255, 255, 255],\n",
       "        [255, 255, 255, 255]],\n",
       "\n",
       "       [[244, 244, 244, 255],\n",
       "        [244, 244, 244, 255],\n",
       "        [244, 244, 244, 255],\n",
       "        ...,\n",
       "        [255, 255, 255, 255],\n",
       "        [255, 255, 255, 255],\n",
       "        [255, 255, 255, 255]],\n",
       "\n",
       "       ...,\n",
       "\n",
       "       [[255, 255, 255, 255],\n",
       "        [255, 255, 255, 255],\n",
       "        [255, 255, 255, 255],\n",
       "        ...,\n",
       "        [255, 255, 255, 255],\n",
       "        [255, 255, 255, 255],\n",
       "        [255, 255, 255, 255]],\n",
       "\n",
       "       [[255, 255, 255, 255],\n",
       "        [255, 255, 255, 255],\n",
       "        [255, 255, 255, 255],\n",
       "        ...,\n",
       "        [255, 255, 255, 255],\n",
       "        [255, 255, 255, 255],\n",
       "        [255, 255, 255, 255]],\n",
       "\n",
       "       [[255, 255, 255, 255],\n",
       "        [255, 255, 255, 255],\n",
       "        [255, 255, 255, 255],\n",
       "        ...,\n",
       "        [255, 255, 255, 255],\n",
       "        [255, 255, 255, 255],\n",
       "        [255, 255, 255, 255]]], dtype=uint8)"
      ]
     },
     "execution_count": 13,
     "metadata": {},
     "output_type": "execute_result"
    }
   ],
   "source": [
    "arr1 = np.array(img1)\n",
    "arr2 = np.array(img2)\n",
    "\n",
    "arr1"
   ]
  },
  {
   "cell_type": "markdown",
   "id": "897bd575",
   "metadata": {},
   "source": [
    "# Adding the arrays together"
   ]
  },
  {
   "cell_type": "code",
   "execution_count": 14,
   "id": "1148ee72",
   "metadata": {},
   "outputs": [
    {
     "data": {
      "text/plain": [
       "array([[[243, 243, 243, 254],\n",
       "        [243, 243, 243, 254],\n",
       "        [243, 243, 243, 254],\n",
       "        ...,\n",
       "        [254, 254, 254, 254],\n",
       "        [254, 254, 254, 254],\n",
       "        [254, 254, 254, 254]],\n",
       "\n",
       "       [[243, 243, 243, 254],\n",
       "        [243, 243, 243, 254],\n",
       "        [243, 243, 243, 254],\n",
       "        ...,\n",
       "        [254, 254, 254, 254],\n",
       "        [254, 254, 254, 254],\n",
       "        [254, 254, 254, 254]],\n",
       "\n",
       "       [[243, 243, 243, 254],\n",
       "        [243, 243, 243, 254],\n",
       "        [243, 243, 243, 254],\n",
       "        ...,\n",
       "        [254, 254, 254, 254],\n",
       "        [254, 254, 254, 254],\n",
       "        [254, 254, 254, 254]],\n",
       "\n",
       "       ...,\n",
       "\n",
       "       [[255, 255, 255, 255],\n",
       "        [255, 255, 255, 255],\n",
       "        [255, 255, 255, 255],\n",
       "        ...,\n",
       "        [255, 255, 255, 255],\n",
       "        [255, 255, 255, 255],\n",
       "        [255, 255, 255, 255]],\n",
       "\n",
       "       [[255, 255, 255, 255],\n",
       "        [255, 255, 255, 255],\n",
       "        [255, 255, 255, 255],\n",
       "        ...,\n",
       "        [255, 255, 255, 255],\n",
       "        [255, 255, 255, 255],\n",
       "        [255, 255, 255, 255]],\n",
       "\n",
       "       [[255, 255, 255, 255],\n",
       "        [255, 255, 255, 255],\n",
       "        [255, 255, 255, 255],\n",
       "        ...,\n",
       "        [255, 255, 255, 255],\n",
       "        [255, 255, 255, 255],\n",
       "        [255, 255, 255, 255]]], dtype=uint8)"
      ]
     },
     "execution_count": 14,
     "metadata": {},
     "output_type": "execute_result"
    }
   ],
   "source": [
    "arr2.resize(arr1.shape)\n",
    "arr3 = arr1+arr2\n",
    "arr3"
   ]
  },
  {
   "cell_type": "markdown",
   "id": "6c5f6fa2",
   "metadata": {},
   "source": [
    "# Viewing the results"
   ]
  },
  {
   "cell_type": "code",
   "execution_count": null,
   "id": "538ffa16",
   "metadata": {},
   "outputs": [
    {
     "ename": "NameError",
     "evalue": "name 'Image' is not defined",
     "output_type": "error",
     "traceback": [
      "\u001b[0;31m---------------------------------------------------------------------------\u001b[0m",
      "\u001b[0;31mNameError\u001b[0m                                 Traceback (most recent call last)",
      "Cell \u001b[0;32mIn[15], line 1\u001b[0m\n\u001b[0;32m----> 1\u001b[0m image3 \u001b[38;5;241m=\u001b[39m \u001b[43mImage\u001b[49m\u001b[38;5;241m.\u001b[39mfromarray(arr3\u001b[38;5;241m.\u001b[39mastype(\u001b[38;5;124m'\u001b[39m\u001b[38;5;124muint8\u001b[39m\u001b[38;5;124m'\u001b[39m), mode\u001b[38;5;241m=\u001b[39m\u001b[38;5;124m'\u001b[39m\u001b[38;5;124mRGB\u001b[39m\u001b[38;5;124m'\u001b[39m)\n\u001b[1;32m      2\u001b[0m image3\u001b[38;5;241m.\u001b[39mshow()\n",
      "\u001b[0;31mNameError\u001b[0m: name 'Image' is not defined"
     ]
    }
   ],
   "source": [
    "image3 = image.fromarray(arr3.astype('uint8'), mode='RGB')\n",
    "image3.show()"
   ]
  }
 ],
 "metadata": {
  "kernelspec": {
   "display_name": "Python 3",
   "language": "python",
   "name": "python3"
  },
  "language_info": {
   "codemirror_mode": {
    "name": "ipython",
    "version": 3
   },
   "file_extension": ".py",
   "mimetype": "text/x-python",
   "name": "python",
   "nbconvert_exporter": "python",
   "pygments_lexer": "ipython3",
   "version": "3.10.12"
  }
 },
 "nbformat": 4,
 "nbformat_minor": 5
}
