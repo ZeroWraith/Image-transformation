{
 "cells": [
  {
   "cell_type": "markdown",
   "id": "2dfa4904",
   "metadata": {},
   "source": [
    "# Using PIL and numpy to transform Images\n"
   ]
  },
  {
   "cell_type": "code",
   "execution_count": 29,
   "id": "c115323e",
   "metadata": {},
   "outputs": [],
   "source": [
    "import numpy as np\n",
    "from PIL import Image as image"
   ]
  },
  {
   "cell_type": "markdown",
   "id": "047acca4",
   "metadata": {},
   "source": [
    "## Using th PIL library to import the pictures"
   ]
  },
  {
   "cell_type": "code",
   "execution_count": null,
   "id": "1d82b63b",
   "metadata": {},
   "outputs": [],
   "source": [
    "img1 = image.open(\"house.png\")\n",
    "img2 = image.open(\"heart.png\")\n",
    "img1.show()\n",
    "img2.show()"
   ]
  },
  {
   "cell_type": "markdown",
   "id": "14d5383f",
   "metadata": {},
   "source": [
    "![alt text](heart.png)"
   ]
  },
  {
   "cell_type": "markdown",
   "id": "79f1ed8d",
   "metadata": {},
   "source": [
    "![alt text](house.png)"
   ]
  },
  {
   "cell_type": "markdown",
   "id": "dbca73fe",
   "metadata": {},
   "source": [
    "# Using numpy to view the images as an array of numbers"
   ]
  },
  {
   "cell_type": "code",
   "execution_count": 31,
   "id": "b0e2d048",
   "metadata": {},
   "outputs": [
    {
     "data": {
      "text/plain": [
       "array([[[244, 244, 244],\n",
       "        [244, 244, 244],\n",
       "        [244, 244, 244],\n",
       "        ...,\n",
       "        [255, 255, 255],\n",
       "        [255, 255, 255],\n",
       "        [255, 255, 255]],\n",
       "\n",
       "       [[244, 244, 244],\n",
       "        [244, 244, 244],\n",
       "        [244, 244, 244],\n",
       "        ...,\n",
       "        [255, 255, 255],\n",
       "        [255, 255, 255],\n",
       "        [255, 255, 255]],\n",
       "\n",
       "       [[244, 244, 244],\n",
       "        [244, 244, 244],\n",
       "        [244, 244, 244],\n",
       "        ...,\n",
       "        [255, 255, 255],\n",
       "        [255, 255, 255],\n",
       "        [255, 255, 255]],\n",
       "\n",
       "       ...,\n",
       "\n",
       "       [[255, 255, 255],\n",
       "        [255, 255, 255],\n",
       "        [255, 255, 255],\n",
       "        ...,\n",
       "        [255, 255, 255],\n",
       "        [255, 255, 255],\n",
       "        [255, 255, 255]],\n",
       "\n",
       "       [[255, 255, 255],\n",
       "        [255, 255, 255],\n",
       "        [255, 255, 255],\n",
       "        ...,\n",
       "        [255, 255, 255],\n",
       "        [255, 255, 255],\n",
       "        [255, 255, 255]],\n",
       "\n",
       "       [[255, 255, 255],\n",
       "        [255, 255, 255],\n",
       "        [255, 255, 255],\n",
       "        ...,\n",
       "        [255, 255, 255],\n",
       "        [255, 255, 255],\n",
       "        [255, 255, 255]]], dtype=uint8)"
      ]
     },
     "execution_count": 31,
     "metadata": {},
     "output_type": "execute_result"
    }
   ],
   "source": [
    "arr1 = np.array(img1)\n",
    "arr2 = np.array(img2)\n",
    "\n",
    "arr1"
   ]
  },
  {
   "cell_type": "code",
   "execution_count": 32,
   "id": "2ea2fd3f",
   "metadata": {},
   "outputs": [
    {
     "data": {
      "text/plain": [
       "(394, 410, 3)"
      ]
     },
     "execution_count": 32,
     "metadata": {},
     "output_type": "execute_result"
    }
   ],
   "source": [
    "arr2.shape"
   ]
  },
  {
   "cell_type": "markdown",
   "id": "897bd575",
   "metadata": {},
   "source": [
    "# Adding the arrays together"
   ]
  },
  {
   "cell_type": "code",
   "execution_count": 33,
   "id": "1148ee72",
   "metadata": {},
   "outputs": [
    {
     "data": {
      "text/plain": [
       "array([[[243, 243, 243],\n",
       "        [243, 243, 243],\n",
       "        [243, 243, 243],\n",
       "        ...,\n",
       "        [254, 254, 254],\n",
       "        [254, 254, 254],\n",
       "        [254, 254, 254]],\n",
       "\n",
       "       [[243, 243, 243],\n",
       "        [243, 243, 243],\n",
       "        [243, 243, 243],\n",
       "        ...,\n",
       "        [254, 254, 254],\n",
       "        [254, 254, 254],\n",
       "        [254, 254, 254]],\n",
       "\n",
       "       [[243, 243, 243],\n",
       "        [243, 243, 243],\n",
       "        [243, 243, 243],\n",
       "        ...,\n",
       "        [254, 254, 254],\n",
       "        [254, 254, 254],\n",
       "        [254, 254, 254]],\n",
       "\n",
       "       ...,\n",
       "\n",
       "       [[255, 255, 255],\n",
       "        [255, 255, 255],\n",
       "        [255, 255, 255],\n",
       "        ...,\n",
       "        [255, 255, 255],\n",
       "        [255, 255, 255],\n",
       "        [255, 255, 255]],\n",
       "\n",
       "       [[255, 255, 255],\n",
       "        [255, 255, 255],\n",
       "        [255, 255, 255],\n",
       "        ...,\n",
       "        [255, 255, 255],\n",
       "        [255, 255, 255],\n",
       "        [255, 255, 255]],\n",
       "\n",
       "       [[255, 255, 255],\n",
       "        [255, 255, 255],\n",
       "        [255, 255, 255],\n",
       "        ...,\n",
       "        [255, 255, 255],\n",
       "        [255, 255, 255],\n",
       "        [255, 255, 255]]], dtype=uint8)"
      ]
     },
     "execution_count": 33,
     "metadata": {},
     "output_type": "execute_result"
    }
   ],
   "source": [
    "arr2.resize(arr1.shape)\n",
    "arr3 = arr1+arr2\n",
    "arr3"
   ]
  },
  {
   "cell_type": "markdown",
   "id": "6c5f6fa2",
   "metadata": {},
   "source": [
    "# Viewing the results"
   ]
  },
  {
   "cell_type": "code",
   "execution_count": 34,
   "id": "538ffa16",
   "metadata": {},
   "outputs": [
    {
     "name": "stderr",
     "output_type": "stream",
     "text": [
      "/tmp/ipykernel_258505/1512661591.py:1: DeprecationWarning: 'mode' parameter is deprecated and will be removed in Pillow 13 (2026-10-15)\n",
      "  image3 = image.fromarray(arr3.astype('uint64'), mode='RGB')\n"
     ]
    }
   ],
   "source": [
    "image3 = image.fromarray(arr3.astype('uint64'), mode='RGB')\n",
    "image3.show()"
   ]
  },
  {
   "cell_type": "markdown",
   "id": "d1b21e22",
   "metadata": {},
   "source": [
    "![alt text](<Screenshot 2025-07-14 162708.png>)"
   ]
  },
  {
   "cell_type": "markdown",
   "id": "15f99103",
   "metadata": {},
   "source": [
    "# Corrected code\n",
    "\n",
    "## Mistakes-\n",
    "\n",
    "- not converting to unit8\n",
    "- not converting to RGB\n",
    "- not capping at 255 to avoid overflow"
   ]
  },
  {
   "cell_type": "code",
   "execution_count": null,
   "id": "af0081c0",
   "metadata": {},
   "outputs": [
    {
     "name": "stderr",
     "output_type": "stream",
     "text": [
      "/tmp/ipykernel_258505/455401744.py:19: DeprecationWarning: 'mode' parameter is deprecated and will be removed in Pillow 13 (2026-10-15)\n",
      "  result_image = Image.fromarray(added_array, 'RGB')\n"
     ]
    }
   ],
   "source": [
    "from PIL import Image\n",
    "import numpy as np\n",
    "\n",
    "# Load two images (they must be the same size)\n",
    "img1 = Image.open(\"heart.png\").convert('RGB')\n",
    "img2 = Image.open(\"house.png\").convert('RGB')\n",
    "\n",
    "# Resize to match (optional but usually required)\n",
    "img2 = img2.resize(img1.size)\n",
    "\n",
    "# Convert to NumPy arrays\n",
    "arr1 = np.array(img1, dtype=np.uint8)\n",
    "arr2 = np.array(img2, dtype=np.uint8)\n",
    "\n",
    "# Add the images (element-wise addition, capped at 255 to avoid overflow)\n",
    "added_array = np.clip(arr1 + arr2, 0, 255).astype(np.uint8)\n",
    "\n",
    "# Convert back to image\n",
    "result_image = Image.fromarray(added_array, 'RGB')\n",
    "result_image.show()\n"
   ]
  },
  {
   "cell_type": "markdown",
   "id": "5fa4df85",
   "metadata": {},
   "source": [
    "![alt text](<Screenshot 2025-07-14 162900.png>)"
   ]
  },
  {
   "cell_type": "markdown",
   "id": "9db2e080",
   "metadata": {},
   "source": [
    "Other option USING blend form the image library\n"
   ]
  },
  {
   "cell_type": "code",
   "execution_count": 36,
   "id": "cdda6b0e",
   "metadata": {},
   "outputs": [],
   "source": [
    "blended = Image.blend(img1, img2, alpha=0.5)  # alpha controls mix ratio\n",
    "blended.show()\n"
   ]
  },
  {
   "cell_type": "markdown",
   "id": "151b4aaa",
   "metadata": {},
   "source": [
    "![alt text](<Screenshot 2025-07-14 163545.png>)"
   ]
  }
 ],
 "metadata": {
  "kernelspec": {
   "display_name": "Python 3",
   "language": "python",
   "name": "python3"
  },
  "language_info": {
   "codemirror_mode": {
    "name": "ipython",
    "version": 3
   },
   "file_extension": ".py",
   "mimetype": "text/x-python",
   "name": "python",
   "nbconvert_exporter": "python",
   "pygments_lexer": "ipython3",
   "version": "3.10.12"
  }
 },
 "nbformat": 4,
 "nbformat_minor": 5
}
